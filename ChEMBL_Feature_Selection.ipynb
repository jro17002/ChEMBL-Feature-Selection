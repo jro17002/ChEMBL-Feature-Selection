{
  "nbformat": 4,
  "nbformat_minor": 0,
  "metadata": {
    "colab": {
      "name": "ChEMBL Feature Selection",
      "provenance": [],
      "collapsed_sections": [],
      "mount_file_id": "1mNTCKkkCWQXFXQ0YZfAN6EsvdsNStSML",
      "authorship_tag": "ABX9TyOYeEPeQmsqIZB7oE7HrD1q",
      "include_colab_link": true
    },
    "kernelspec": {
      "display_name": "Python 3",
      "name": "python3"
    }
  },
  "cells": [
    {
      "cell_type": "markdown",
      "metadata": {
        "id": "view-in-github",
        "colab_type": "text"
      },
      "source": [
        "<a href=\"https://colab.research.google.com/github/jro17002/ChEMBL-Feature-Selection/blob/main/ChEMBL_Feature_Selection.ipynb\" target=\"_parent\"><img src=\"https://colab.research.google.com/assets/colab-badge.svg\" alt=\"Open In Colab\"/></a>"
      ]
    },
    {
      "cell_type": "markdown",
      "metadata": {
        "id": "uwvVUoZ9UrUv"
      },
      "source": [
        "# Understanding Possible Features"
      ]
    },
    {
      "cell_type": "markdown",
      "metadata": {
        "id": "REs7OuvC-nhI"
      },
      "source": [
        "This section will go over understanding the possible features we can use. To be continued. "
      ]
    },
    {
      "cell_type": "code",
      "metadata": {
        "cellView": "code",
        "id": "fqu3gHzqc8EC"
      },
      "source": [
        "#Setup\n",
        "import pprint\n",
        "from IPython.display import display, SVG, HTML\n",
        "#official Python client library developed and supported by ChEMBL group\n",
        "!pip install chembl_webresource_client"
      ],
      "execution_count": null,
      "outputs": []
    },
    {
      "cell_type": "code",
      "metadata": {
        "id": "eysN5czCdIjO"
      },
      "source": [
        "# Python modules used for API access\n",
        "from chembl_webresource_client.new_client import new_client\n",
        "molecule = new_client.molecule"
      ],
      "execution_count": null,
      "outputs": []
    },
    {
      "cell_type": "code",
      "metadata": {
        "id": "v5oVzmH82YZF"
      },
      "source": [
        "#available resources, possible features\n",
        "available_resources = [resource for resource in dir(new_client) if not resource.startswith('_')]\n",
        "pprint.pprint(available_resources)"
      ],
      "execution_count": null,
      "outputs": []
    },
    {
      "cell_type": "markdown",
      "metadata": {
        "id": "b2pv0MwG9vZF"
      },
      "source": [
        "#Understanding ChEMBL API"
      ]
    },
    {
      "cell_type": "markdown",
      "metadata": {
        "id": "0zIQ4cBhCMTG"
      },
      "source": [
        "This section used to understand & work w/ ChEMBL API"
      ]
    },
    {
      "cell_type": "code",
      "metadata": {
        "id": "5L40rjlO-hBS"
      },
      "source": [
        "#Setup\n",
        "import pprint\n",
        "#official Python client library developed and supported by ChEMBL group\n",
        "!pip install chembl_webresource_client"
      ],
      "execution_count": null,
      "outputs": []
    },
    {
      "cell_type": "code",
      "metadata": {
        "id": "QuJ3_2Ki-jVC"
      },
      "source": [
        "# Python modules used for API access\n",
        "from chembl_webresource_client.new_client import new_client\n",
        "activity = new_client.activity\n",
        "activity_supplementary_data_by_activity = new_client.activity_supplementary_data_by_activity\n",
        "assay = new_client.assay\n",
        "drug = new_client.drug\n",
        "molecule = new_client.molecule\n",
        "molecule_form = new_client.molecule_form\n",
        "image = new_client.image\n",
        "image.set_format('svg')"
      ],
      "execution_count": null,
      "outputs": []
    },
    {
      "cell_type": "code",
      "metadata": {
        "id": "ZOjZmsrWUoFh"
      },
      "source": [
        "#print molecule by chemblID, additonal possible features\n",
        "m1 = molecule.get('CHEMBL25')\n",
        "pprint.pprint(m1)"
      ],
      "execution_count": null,
      "outputs": []
    },
    {
      "cell_type": "code",
      "metadata": {
        "id": "R_91-HcAdgzQ"
      },
      "source": [
        "#print canonical SMILES from ChemblID\n",
        "m1 = molecule.get('CHEMBL25')\n",
        "pprint.pprint(m1['molecule_structures']['canonical_smiles'])\n",
        "\n",
        "#print ChemblID from canonical SMILES\n",
        "m1 = molecule.get('CC(=O)Oc1ccccc1C(=O)O')\n",
        "pprint.pprint(m1['molecule_chembl_id'])\n",
        "\n",
        "#flex match will attempt to match regardless of format, will possibly return multiple \n",
        "m1 = molecule.filter(molecule_structures__canonical_smiles__flexmatch = 'CC(=O)Oc1ccccc1C(=O)O')\n",
        "pprint.pprint(m1)"
      ],
      "execution_count": null,
      "outputs": []
    },
    {
      "cell_type": "code",
      "metadata": {
        "id": "31FMMAK4g5AQ"
      },
      "source": [
        "#filter, return chemblIDs w/ pref_name aspirin\n",
        "#note to self look into chembl_webresource_client/scripts/chembl_ids.py, might be useful to do in bulk idk\n",
        "#seems pref_name must be capitalized\n",
        "m1 = molecule.filter(pref_name='ASPIRIN')\n",
        "pprint.pprint(m1[0]['molecule_chembl_id'])\n",
        "\n",
        "#filter, return chemblIDs w/ pref_name from list \n",
        "mn = ['aspirin', 'ibuprofen', 'acetaminophen', 'hydroxychloroquine', 'mtndew']\n",
        "for i in mn:\n",
        "  m1 = molecule.filter(pref_name = i.upper()).only(['molecule_chembl_id'])\n",
        "  try:\n",
        "    pprint.pprint(m1[0]['molecule_chembl_id'])\n",
        "  except:\n",
        "    print(\"Pref_name\", i , \"not found\")\n",
        "    pass"
      ],
      "execution_count": null,
      "outputs": []
    },
    {
      "cell_type": "code",
      "metadata": {
        "id": "1CjbE7jW3lu2"
      },
      "source": [
        "#get drug information of ChEMBL25, aspirin\n",
        "m1 = drug.get('CHEMBL25')\n",
        "pprint.pprint(m1)"
      ],
      "execution_count": null,
      "outputs": []
    },
    {
      "cell_type": "code",
      "metadata": {
        "id": "bNFcz7Z5gkz8"
      },
      "source": [
        "#get molecule strutures of aspirin\n",
        "m1 = molecule.get('CHEMBL25')\n",
        "pprint.pprint(m1['molecule_structures'])"
      ],
      "execution_count": null,
      "outputs": []
    },
    {
      "cell_type": "code",
      "metadata": {
        "id": "NCJAOV7whKsm"
      },
      "source": [
        "#print molecule molfile of aspirin\n",
        "m1 = molecule.get('CHEMBL25')\n",
        "pprint.pprint(m1['molecule_structures']['molfile'])"
      ],
      "execution_count": null,
      "outputs": []
    },
    {
      "cell_type": "code",
      "metadata": {
        "colab": {
          "base_uri": "https://localhost:8080/",
          "height": 521
        },
        "id": "E9hdgDga0hoE",
        "outputId": "9f106481-593e-440f-c606-3c4f62cd8a5b"
      },
      "source": [
        "#return image from ChEMBL ID\n",
        "m1 = image.get('CHEMBL25')\n",
        "SVG(m1)"
      ],
      "execution_count": null,
      "outputs": [
        {
          "output_type": "execute_result",
          "data": {
            "image/svg+xml": "<svg baseProfile=\"full\" height=\"500px\" version=\"1.1\" viewBox=\"0 0 500 500\" width=\"500px\" xml:space=\"preserve\" xmlns=\"http://www.w3.org/2000/svg\" xmlns:rdkit=\"http://www.rdkit.org/xml\" xmlns:xlink=\"http://www.w3.org/1999/xlink\">\n<!-- END OF HEADER -->\n<path class=\"bond-0\" d=\"M 61.3426,174.682 L 61.196,275.762\" style=\"fill:none;fill-rule:evenodd;stroke:#000000;stroke-width:2px;stroke-linecap:butt;stroke-linejoin:miter;stroke-opacity:1\"/>\n<path class=\"bond-0\" d=\"M 83.3129,189.876 L 83.2103,260.632\" style=\"fill:none;fill-rule:evenodd;stroke:#000000;stroke-width:2px;stroke-linecap:butt;stroke-linejoin:miter;stroke-opacity:1\"/>\n<path class=\"bond-11\" d=\"M 61.3426,174.682 L 148.31,124.246\" style=\"fill:none;fill-rule:evenodd;stroke:#000000;stroke-width:2px;stroke-linecap:butt;stroke-linejoin:miter;stroke-opacity:1\"/>\n<path class=\"bond-7\" d=\"M 61.196,275.762 L 148.53,326.197\" style=\"fill:none;fill-rule:evenodd;stroke:#000000;stroke-width:2px;stroke-linecap:butt;stroke-linejoin:miter;stroke-opacity:1\"/>\n<path class=\"bond-2\" d=\"M 148.53,326.197 L 236.06,275.701\" style=\"fill:none;fill-rule:evenodd;stroke:#000000;stroke-width:2px;stroke-linecap:butt;stroke-linejoin:miter;stroke-opacity:1\"/>\n<path class=\"bond-2\" d=\"M 150.67,299.573 L 211.94,264.225\" style=\"fill:none;fill-rule:evenodd;stroke:#000000;stroke-width:2px;stroke-linecap:butt;stroke-linejoin:miter;stroke-opacity:1\"/>\n<path class=\"bond-4\" d=\"M 236.06,275.701 L 276.237,298.818\" style=\"fill:none;fill-rule:evenodd;stroke:#000000;stroke-width:2px;stroke-linecap:butt;stroke-linejoin:miter;stroke-opacity:1\"/>\n<path class=\"bond-4\" d=\"M 276.237,298.818 L 316.413,321.935\" style=\"fill:none;fill-rule:evenodd;stroke:#FF0000;stroke-width:2px;stroke-linecap:butt;stroke-linejoin:miter;stroke-opacity:1\"/>\n<path class=\"bond-5\" d=\"M 236.06,275.701 L 235.705,174.242\" style=\"fill:none;fill-rule:evenodd;stroke:#000000;stroke-width:2px;stroke-linecap:butt;stroke-linejoin:miter;stroke-opacity:1\"/>\n<path class=\"bond-1\" d=\"M 235.705,174.242 L 322.807,123.513\" style=\"fill:none;fill-rule:evenodd;stroke:#000000;stroke-width:2px;stroke-linecap:butt;stroke-linejoin:miter;stroke-opacity:1\"/>\n<path class=\"bond-9\" d=\"M 235.705,174.242 L 148.31,124.246\" style=\"fill:none;fill-rule:evenodd;stroke:#000000;stroke-width:2px;stroke-linecap:butt;stroke-linejoin:miter;stroke-opacity:1\"/>\n<path class=\"bond-9\" d=\"M 211.676,185.832 L 150.499,150.835\" style=\"fill:none;fill-rule:evenodd;stroke:#000000;stroke-width:2px;stroke-linecap:butt;stroke-linejoin:miter;stroke-opacity:1\"/>\n<path class=\"bond-3\" d=\"M 317.345,133.057 L 357.576,156.086\" style=\"fill:none;fill-rule:evenodd;stroke:#000000;stroke-width:2px;stroke-linecap:butt;stroke-linejoin:miter;stroke-opacity:1\"/>\n<path class=\"bond-3\" d=\"M 357.576,156.086 L 397.808,179.116\" style=\"fill:none;fill-rule:evenodd;stroke:#FF0000;stroke-width:2px;stroke-linecap:butt;stroke-linejoin:miter;stroke-opacity:1\"/>\n<path class=\"bond-3\" d=\"M 328.27,113.97 L 368.502,137\" style=\"fill:none;fill-rule:evenodd;stroke:#000000;stroke-width:2px;stroke-linecap:butt;stroke-linejoin:miter;stroke-opacity:1\"/>\n<path class=\"bond-3\" d=\"M 368.502,137 L 408.734,160.03\" style=\"fill:none;fill-rule:evenodd;stroke:#FF0000;stroke-width:2px;stroke-linecap:butt;stroke-linejoin:miter;stroke-opacity:1\"/>\n<path class=\"bond-12\" d=\"M 322.807,123.513 L 322.626,76.8703\" style=\"fill:none;fill-rule:evenodd;stroke:#000000;stroke-width:2px;stroke-linecap:butt;stroke-linejoin:miter;stroke-opacity:1\"/>\n<path class=\"bond-12\" d=\"M 322.626,76.8703 L 322.445,30.2273\" style=\"fill:none;fill-rule:evenodd;stroke:#FF0000;stroke-width:2px;stroke-linecap:butt;stroke-linejoin:miter;stroke-opacity:1\"/>\n<path class=\"bond-6\" d=\"M 323.43,333.465 L 323.504,380.108\" style=\"fill:none;fill-rule:evenodd;stroke:#FF0000;stroke-width:2px;stroke-linecap:butt;stroke-linejoin:miter;stroke-opacity:1\"/>\n<path class=\"bond-6\" d=\"M 323.504,380.108 L 323.577,426.751\" style=\"fill:none;fill-rule:evenodd;stroke:#000000;stroke-width:2px;stroke-linecap:butt;stroke-linejoin:miter;stroke-opacity:1\"/>\n<path class=\"bond-8\" d=\"M 323.577,426.751 L 410.936,476.992\" style=\"fill:none;fill-rule:evenodd;stroke:#000000;stroke-width:2px;stroke-linecap:butt;stroke-linejoin:miter;stroke-opacity:1\"/>\n<path class=\"bond-10\" d=\"M 318.065,417.237 L 277.967,440.468\" style=\"fill:none;fill-rule:evenodd;stroke:#000000;stroke-width:2px;stroke-linecap:butt;stroke-linejoin:miter;stroke-opacity:1\"/>\n<path class=\"bond-10\" d=\"M 277.967,440.468 L 237.87,463.7\" style=\"fill:none;fill-rule:evenodd;stroke:#FF0000;stroke-width:2px;stroke-linecap:butt;stroke-linejoin:miter;stroke-opacity:1\"/>\n<path class=\"bond-10\" d=\"M 329.09,436.266 L 288.992,459.497\" style=\"fill:none;fill-rule:evenodd;stroke:#000000;stroke-width:2px;stroke-linecap:butt;stroke-linejoin:miter;stroke-opacity:1\"/>\n<path class=\"bond-10\" d=\"M 288.992,459.497 L 248.895,482.729\" style=\"fill:none;fill-rule:evenodd;stroke:#FF0000;stroke-width:2px;stroke-linecap:butt;stroke-linejoin:miter;stroke-opacity:1\"/>\n<text style=\"font-size:15px;font-style:normal;font-weight:normal;fill-opacity:1;stroke:none;font-family:sans-serif;text-anchor:start;fill:#FF0000\" x=\"403.271\" y=\"181.083\"><tspan>O</tspan></text>\n<text style=\"font-size:15px;font-style:normal;font-weight:normal;fill-opacity:1;stroke:none;font-family:sans-serif;text-anchor:start;fill:#FF0000\" x=\"316.413\" y=\"333.465\"><tspan>O</tspan></text>\n<text style=\"font-size:15px;font-style:normal;font-weight:normal;fill-opacity:1;stroke:none;font-family:sans-serif;text-anchor:start;fill:#FF0000\" x=\"229.373\" y=\"484.773\"><tspan>O</tspan></text>\n<text style=\"font-size:15px;font-style:normal;font-weight:normal;fill-opacity:1;stroke:none;font-family:sans-serif;text-anchor:start;fill:#FF0000\" x=\"308.911\" y=\"30.2273\"><tspan>OH</tspan></text>\n</svg>",
            "text/plain": [
              "<IPython.core.display.SVG object>"
            ]
          },
          "metadata": {
            "tags": []
          },
          "execution_count": 11
        }
      ]
    },
    {
      "cell_type": "markdown",
      "metadata": {
        "id": "o9Nqej1RPuH0"
      },
      "source": [
        "# Extracting Features"
      ]
    },
    {
      "cell_type": "code",
      "metadata": {
        "id": "KuhFJ0UaQLFF"
      },
      "source": [
        "#Setup\n",
        "import pprint\n",
        "from IPython.display import display, SVG\n",
        "import pandas as pd\n",
        "#official Python client library developed and supported by ChEMBL group\n",
        "!pip install chembl_webresource_client"
      ],
      "execution_count": null,
      "outputs": []
    },
    {
      "cell_type": "code",
      "metadata": {
        "id": "CZTDeWSQQMDk"
      },
      "source": [
        "# Python modules used for API access\n",
        "from chembl_webresource_client.new_client import new_client\n",
        "activity = new_client.activity\n",
        "activity_supplementary_data_by_activity = new_client.activity_supplementary_data_by_activity\n",
        "assay = new_client.assay\n",
        "drug = new_client.drug\n",
        "molecule = new_client.molecule\n",
        "molecule_form = new_client.molecule_form\n",
        "image = new_client.image\n",
        "image.set_format('svg')"
      ],
      "execution_count": null,
      "outputs": []
    },
    {
      "cell_type": "markdown",
      "metadata": {
        "id": "thTxKLT2Veem"
      },
      "source": [
        "Lets try to use Smiles strings to return some information. First, we will start with the basic return ChEMBL ID."
      ]
    },
    {
      "cell_type": "code",
      "metadata": {
        "id": "EE3mjXJeP7EI"
      },
      "source": [
        "#from a generated csv file from chembl return ChEMBL IDs, \n",
        "dataSet = pd.read_csv('/content/drive/MyDrive/ChEMBL/DOWNLOAD-5k4GGzD9cVYXAlTnoj4F-G3sto_CHD3aZRE056naF_s=.csv', sep=';', error_bad_lines=False)\n",
        "dataSet = dataSet[dataSet['Smiles'].notna()]\n",
        "\n",
        "#list of smiles strings from a ChEMBL generated csv file\n",
        "smiles_strings = dataSet.iloc[1:,30]\n",
        "\n",
        "#print(smiles_strings.head)\n",
        "\n",
        "#list of ChEMBL IDs\n",
        "list_of_IDs = []\n",
        "\n",
        "for i in range(0, len(smiles_strings)):\n",
        "  try:\n",
        "    m1 = molecule.get(smiles_strings[i])['molecule_chembl_id']\n",
        "    list_of_IDs.append(m1)\n",
        "  except:\n",
        "    None\n",
        "\n",
        "print(list_of_IDs)"
      ],
      "execution_count": null,
      "outputs": []
    },
    {
      "cell_type": "markdown",
      "metadata": {
        "id": "THc6HrZyQmzz"
      },
      "source": [
        "Let's now look into returning some possible features, we will use smiles strings to get the molecule formula and molecular weight for example."
      ]
    },
    {
      "cell_type": "code",
      "metadata": {
        "colab": {
          "base_uri": "https://localhost:8080/"
        },
        "id": "hb5uBWt2QYqP",
        "outputId": "c8371bcc-541a-4a98-af24-ac9f98ee2353"
      },
      "source": [
        "#we will use the same smiles strings from above\n",
        "list_of_molecule_formula = []\n",
        "list_of_molecular_weights = []\n",
        "\n",
        "for i in range(0, len(smiles_strings)):\n",
        "  try:\n",
        "    m1 = molecule.get(smiles_strings[i])['molecule_properties']\n",
        "    list_of_molecule_formula.append(m1['full_molformula'])  #we can change this to any property in molecule_properties\n",
        "    list_of_molecular_weights.append(m1['full_mwt'])\n",
        "  except:\n",
        "    None\n",
        "\n",
        "print(list_of_molecule_formula)\n",
        "print(list_of_molecular_weights)"
      ],
      "execution_count": null,
      "outputs": [
        {
          "output_type": "stream",
          "text": [
            "['C56H87NO16', 'C14H22N2O', 'C25H38O3', 'C19H24N2O', 'C16H16ClNO2S', 'C12H21NO8S', 'C16H10N2O8S2', 'C2H3Cl3O2', 'C6H6N6O2', 'C27H32F2N8', 'C45H57NO14', 'C14H20N2O3', 'C8H9NO2', 'C5H9NO3', 'C62H111N11O12', 'C24H25ClFN5O2', 'C7H17Cl2N2O3P', 'C13H18O2', 'C9H9Cl2N3', 'C66H68CaF2N4O10', 'C22H29FO5', 'C17H11N5', 'C22H23N3O4', 'C5H10ClNO3', 'C26H29N3O6', 'ClK', 'C10H17N', 'C14H27N4O11P2+', 'C29H32O13', 'C9H8O4', 'H14MgO11S', 'C21H21F3IN3O2', 'C18H26ClN3', 'C18H28N2O', 'C22H26ClN7O2S', 'C5H9Cl2N3O2', 'H12Cl2MgO6', 'C24H31NO6', 'O2', 'C35H49N11O9S2', 'C6H12N3PS', 'C29H26ClFN4O4S', 'C6H14O6', 'C14H11NO5', 'C53H83NO14', 'C23H24ClN3O5', 'C23H20F3N5O2S2', 'C22H28FNa2O8P', 'C20H21N3', 'C15H15NO2S', 'C6H14O6S2', 'C20H27N5O2', 'CLi2O3', 'C16H25NO4', 'NO', 'C48H67N5O10', 'C4H11N5', 'C13H18N4O3', 'C31H34F2N6O2', 'C21H26N2O7', 'C9H12N5NaO4', 'C20H22N8O5', 'C22H24ClN3O4', 'C10H12O2', 'C10H13FN5O7P', 'C33H38N4O6', 'C46H83N13O11', 'C15H22FN3O6', 'CHNaO3', 'C20H28N2O5', 'C2H3NaO2']\n",
            "['1030.30', '234.34', '386.58', '296.41', '321.83', '339.37', '422.40', '165.40', '194.15', '506.61', '835.94', '264.32', '151.16', '131.13', '1202.63', '469.95', '279.10', '206.28', '230.10', '1155.36', '392.47', '285.31', '393.44', '167.59', '479.53', '74.55', '151.25', '489.34', '588.56', '180.16', '246.47', '531.32', '319.88', '288.44', '488.02', '214.05', '203.30', '429.51', '32.00', '831.98', '189.22', '581.07', '182.17', '273.24', '958.24', '457.91', '519.57', '516.41', '303.41', '273.36', '246.31', '369.47', '73.89', '295.38', '30.01', '874.09', '129.17', '278.31', '560.65', '418.45', '277.22', '454.45', '429.90', '164.20', '365.21', '586.69', '994.25', '359.35', '84.01', '376.45', '82.03']\n"
          ],
          "name": "stdout"
        }
      ]
    },
    {
      "cell_type": "markdown",
      "metadata": {
        "id": "nHbkZkHWVveC"
      },
      "source": [
        "Making dataframes of the possible features."
      ]
    },
    {
      "cell_type": "code",
      "metadata": {
        "colab": {
          "base_uri": "https://localhost:8080/",
          "height": 194
        },
        "id": "uBMwGAWmVNfp",
        "outputId": "521ab286-0cab-4ff9-bd9f-7926fc59a6b7"
      },
      "source": [
        "df = []\n",
        "for i in range(0, len(smiles_strings)):\n",
        "  try:\n",
        "    m1 = molecule.get(smiles_strings[i])['molecule_properties']\n",
        "    #get the molform and molwt, additional features can be added\n",
        "    molform = m1['full_molformula']\n",
        "    molwt = m1['full_mwt']\n",
        "    df.append([molform,molwt])\n",
        "  except:\n",
        "    None\n",
        "\n",
        "df = pd.DataFrame(df, columns=['molform', 'molwt'])\n",
        "\n",
        "df.head()"
      ],
      "execution_count": null,
      "outputs": [
        {
          "output_type": "execute_result",
          "data": {
            "text/html": [
              "<div>\n",
              "<style scoped>\n",
              "    .dataframe tbody tr th:only-of-type {\n",
              "        vertical-align: middle;\n",
              "    }\n",
              "\n",
              "    .dataframe tbody tr th {\n",
              "        vertical-align: top;\n",
              "    }\n",
              "\n",
              "    .dataframe thead th {\n",
              "        text-align: right;\n",
              "    }\n",
              "</style>\n",
              "<table border=\"1\" class=\"dataframe\">\n",
              "  <thead>\n",
              "    <tr style=\"text-align: right;\">\n",
              "      <th></th>\n",
              "      <th>molform</th>\n",
              "      <th>molwt</th>\n",
              "    </tr>\n",
              "  </thead>\n",
              "  <tbody>\n",
              "    <tr>\n",
              "      <th>0</th>\n",
              "      <td>C56H87NO16</td>\n",
              "      <td>1030.30</td>\n",
              "    </tr>\n",
              "    <tr>\n",
              "      <th>1</th>\n",
              "      <td>C14H22N2O</td>\n",
              "      <td>234.34</td>\n",
              "    </tr>\n",
              "    <tr>\n",
              "      <th>2</th>\n",
              "      <td>C25H38O3</td>\n",
              "      <td>386.58</td>\n",
              "    </tr>\n",
              "    <tr>\n",
              "      <th>3</th>\n",
              "      <td>C19H24N2O</td>\n",
              "      <td>296.41</td>\n",
              "    </tr>\n",
              "    <tr>\n",
              "      <th>4</th>\n",
              "      <td>C16H16ClNO2S</td>\n",
              "      <td>321.83</td>\n",
              "    </tr>\n",
              "  </tbody>\n",
              "</table>\n",
              "</div>"
            ],
            "text/plain": [
              "        molform    molwt\n",
              "0    C56H87NO16  1030.30\n",
              "1     C14H22N2O   234.34\n",
              "2      C25H38O3   386.58\n",
              "3     C19H24N2O   296.41\n",
              "4  C16H16ClNO2S   321.83"
            ]
          },
          "metadata": {
            "tags": []
          },
          "execution_count": 2
        }
      ]
    },
    {
      "cell_type": "markdown",
      "metadata": {
        "id": "6wR30KxCVy6O"
      },
      "source": [
        "Finally, a complete code with setup to produce a dataframe of some molecule properties from smiles"
      ]
    },
    {
      "cell_type": "code",
      "metadata": {
        "id": "ullYVVBSVo2V"
      },
      "source": [
        "#Setup\n",
        "import pprint\n",
        "from IPython.display import display, SVG\n",
        "import pandas as pd\n",
        "#official Python client library developed and supported by ChEMBL group\n",
        "!pip install chembl_webresource_client\n",
        "\n",
        "# Python modules used for API access, only molecule is used for this purpose\n",
        "from chembl_webresource_client.new_client import new_client\n",
        "drug = new_client.drug\n",
        "molecule = new_client.molecule\n",
        "molecule_form = new_client.molecule_form\n",
        "image = new_client.image\n",
        "image.set_format('svg')\n",
        "\n",
        "#from a generated csv file from chembl return ChEMBL IDs, this will be adjusted based on format of csv file\n",
        "dataSet = pd.read_csv('/content/drive/MyDrive/ChEMBL/DOWNLOAD-5k4GGzD9cVYXAlTnoj4F-G3sto_CHD3aZRE056naF_s=.csv', sep=';', error_bad_lines=False)\n",
        "dataSet = dataSet[dataSet['Smiles'].notna()]\n",
        "\n",
        "#list of smiles strings from a ChEMBL generated csv file, this will be adjusted based on format of csv file\n",
        "smiles_strings = dataSet.iloc[1:,30]\n",
        "\n",
        "df = []\n",
        "for i in range(0, len(smiles_strings)):\n",
        "  try:\n",
        "    m1 = molecule.get(smiles_strings[i])['molecule_properties']\n",
        "    #get the molform and molwt, additional features can be added\n",
        "    molform = m1['full_molformula']\n",
        "    molwt = m1['full_mwt']\n",
        "    df.append([molform,molwt])\n",
        "  except:\n",
        "    None\n",
        "\n",
        "df = pd.DataFrame(df, columns=['molform', 'molwt'])\n",
        "\n",
        "df.head()"
      ],
      "execution_count": null,
      "outputs": []
    },
    {
      "cell_type": "code",
      "source": [
        "from google.colab import drive\n",
        "drive.mount('/content/drive')"
      ],
      "metadata": {
        "id": "7VR1iYD8JCvi"
      },
      "execution_count": null,
      "outputs": []
    },
    {
      "cell_type": "markdown",
      "metadata": {
        "id": "XMu_zOMOYnzy"
      },
      "source": [
        "# PubChem, from CID to Smiles"
      ]
    },
    {
      "cell_type": "code",
      "metadata": {
        "id": "CFbUMafjYxLJ"
      },
      "source": [
        "!pip install pubchempy\n",
        "import pubchempy as pcp\n",
        "import pandas as pd\n",
        "import time"
      ],
      "execution_count": null,
      "outputs": []
    },
    {
      "cell_type": "code",
      "metadata": {
        "id": "LuVw-DyOZon9"
      },
      "source": [
        "#load csv of CID and compund names into a dataframe\n",
        "\n",
        "columns = ['CIDs', 'Name']\n",
        "dataSet = pd.read_csv('/content/drive/MyDrive/ChEMBL/drug_names.csv',names = ['CIDs', 'names'], error_bad_lines=False)\n",
        "\n",
        "CIDs_list = dataSet\n",
        "CIDs_list['CIDs'] = dataSet['CIDs'].map(lambda x: x.lstrip('CID'))\n",
        "CIDs_list = dataSet['CIDs'].tolist()\n",
        "\n",
        "smiles_list = []\n",
        "\n",
        "#for i in range(0, 357):\n",
        "#  CID_compound = pcp.Compound.from_cid(CIDs_list[i])\n",
        "#  smiles_list.append(CID_compound.canonical_smiles)\n",
        "#  time.sleep(0.5)\n",
        "\n",
        "#print(\"Success\")\n",
        "\n",
        "\n",
        "for i in range(357, 715):\n",
        "  CID_compound = pcp.Compound.from_cid(CIDs_list[i])\n",
        "  smiles_list.append(CID_compound.canonical_smiles)\n",
        "  time.sleep(0.5)\n",
        "\n",
        "print(\"Success\")\n",
        "\n",
        "#time.sleep(5)\n",
        "\n",
        "#for i in range(715, 1072):\n",
        "#  CID_compound = pcp.Compound.from_cid(CIDs_list[i])\n",
        "#  smiles_list.append(CID_compound.canonical_smiles)\n",
        "#  time.sleep(0.5)\n",
        "\n",
        "#print(\"Success\")\n",
        "\n",
        "#time.sleep(5)\n",
        "\n",
        "#for i in range(1072, 1430):\n",
        "#  try:\n",
        "#    CID_compound = pcp.Compound.from_cid(CIDs_list[i])\n",
        "#    smiles_list.append(CID_compound.canonical_smiles)\n",
        "#    time.sleep(0.5)\n",
        "#  except:\n",
        "#    smiles_list = 'NaN'\n",
        "#    print(\"Error: \", i)\n",
        "\n",
        "#print(\"Success\")\n",
        "\n",
        "#dataSet['Smiles'] = smiles_list\n",
        "\n",
        "\n",
        "\n",
        "output = pd.DataFrame(smiles_list)\n",
        "output1 = output.to_csv()\n",
        "\n",
        "with open('/content/drive/MyDrive/ChEMBL/file2.csv', 'w') as f:\n",
        "  f.write(output1)\n"
      ],
      "execution_count": null,
      "outputs": []
    }
  ]
}